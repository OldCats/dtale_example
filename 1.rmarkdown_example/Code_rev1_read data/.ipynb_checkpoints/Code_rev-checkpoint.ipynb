{
  "nbformat": 4,
  "nbformat_minor": 0,
  "metadata": {
    "kernelspec": {
      "display_name": "Python 3",
      "language": "python",
      "name": "python3"
    },
    "language_info": {
      "codemirror_mode": {
        "name": "ipython",
        "version": 3
      },
      "file_extension": ".py",
      "mimetype": "text/x-python",
      "name": "python",
      "nbconvert_exporter": "python",
      "pygments_lexer": "ipython3",
      "version": "3.6.8"
    },
    "colab": {
      "name": "Code_revs.ipynb",
      "provenance": []
    },
    "widgets": {
      "application/vnd.jupyter.widget-state+json": {
        "5237c9f6bd2a4823b63f5923a83da223": {
          "model_module": "@jupyter-widgets/controls",
          "model_name": "HBoxModel",
          "model_module_version": "1.5.0",
          "state": {
            "_view_name": "HBoxView",
            "_dom_classes": [],
            "_model_name": "HBoxModel",
            "_view_module": "@jupyter-widgets/controls",
            "_model_module_version": "1.5.0",
            "_view_count": null,
            "_view_module_version": "1.5.0",
            "box_style": "",
            "layout": "IPY_MODEL_f536573ad9f14e948a8851169276ba32",
            "_model_module": "@jupyter-widgets/controls",
            "children": [
              "IPY_MODEL_ab027682d84f440d8db8a0bdfa3fa799",
              "IPY_MODEL_8c260085212f474a9a45e080cde702d7",
              "IPY_MODEL_75a93287ae0d453292f4050b192e9c43"
            ]
          }
        },
        "f536573ad9f14e948a8851169276ba32": {
          "model_module": "@jupyter-widgets/base",
          "model_name": "LayoutModel",
          "model_module_version": "1.2.0",
          "state": {
            "_view_name": "LayoutView",
            "grid_template_rows": null,
            "right": null,
            "justify_content": null,
            "_view_module": "@jupyter-widgets/base",
            "overflow": null,
            "_model_module_version": "1.2.0",
            "_view_count": null,
            "flex_flow": null,
            "width": null,
            "min_width": null,
            "border": null,
            "align_items": null,
            "bottom": null,
            "_model_module": "@jupyter-widgets/base",
            "top": null,
            "grid_column": null,
            "overflow_y": null,
            "overflow_x": null,
            "grid_auto_flow": null,
            "grid_area": null,
            "grid_template_columns": null,
            "flex": null,
            "_model_name": "LayoutModel",
            "justify_items": null,
            "grid_row": null,
            "max_height": null,
            "align_content": null,
            "visibility": null,
            "align_self": null,
            "height": null,
            "min_height": null,
            "padding": null,
            "grid_auto_rows": null,
            "grid_gap": null,
            "max_width": null,
            "order": null,
            "_view_module_version": "1.2.0",
            "grid_template_areas": null,
            "object_position": null,
            "object_fit": null,
            "grid_auto_columns": null,
            "margin": null,
            "display": null,
            "left": null
          }
        },
        "ab027682d84f440d8db8a0bdfa3fa799": {
          "model_module": "@jupyter-widgets/controls",
          "model_name": "HTMLModel",
          "model_module_version": "1.5.0",
          "state": {
            "_view_name": "HTMLView",
            "style": "IPY_MODEL_1d621b4b2a484418b9c58348c8779170",
            "_dom_classes": [],
            "description": "",
            "_model_name": "HTMLModel",
            "placeholder": "​",
            "_view_module": "@jupyter-widgets/controls",
            "_model_module_version": "1.5.0",
            "value": "100%",
            "_view_count": null,
            "_view_module_version": "1.5.0",
            "description_tooltip": null,
            "_model_module": "@jupyter-widgets/controls",
            "layout": "IPY_MODEL_e95d11c8e703475f9cadbf54bf74ba9f"
          }
        },
        "8c260085212f474a9a45e080cde702d7": {
          "model_module": "@jupyter-widgets/controls",
          "model_name": "FloatProgressModel",
          "model_module_version": "1.5.0",
          "state": {
            "_view_name": "ProgressView",
            "style": "IPY_MODEL_afcf039c674c4747b95e5e5489720217",
            "_dom_classes": [],
            "description": "",
            "_model_name": "FloatProgressModel",
            "bar_style": "success",
            "max": 655200,
            "_view_module": "@jupyter-widgets/controls",
            "_model_module_version": "1.5.0",
            "value": 655200,
            "_view_count": null,
            "_view_module_version": "1.5.0",
            "orientation": "horizontal",
            "min": 0,
            "description_tooltip": null,
            "_model_module": "@jupyter-widgets/controls",
            "layout": "IPY_MODEL_dbdaa9643d7a484c96f06f024a0c1919"
          }
        },
        "75a93287ae0d453292f4050b192e9c43": {
          "model_module": "@jupyter-widgets/controls",
          "model_name": "HTMLModel",
          "model_module_version": "1.5.0",
          "state": {
            "_view_name": "HTMLView",
            "style": "IPY_MODEL_229be1433a0e4c089d62ea02a909d71c",
            "_dom_classes": [],
            "description": "",
            "_model_name": "HTMLModel",
            "placeholder": "​",
            "_view_module": "@jupyter-widgets/controls",
            "_model_module_version": "1.5.0",
            "value": " 655200/655200 [00:02&lt;00:00, 272697.25it/s]",
            "_view_count": null,
            "_view_module_version": "1.5.0",
            "description_tooltip": null,
            "_model_module": "@jupyter-widgets/controls",
            "layout": "IPY_MODEL_5ee5ae84142940f6a159085c04194067"
          }
        },
        "1d621b4b2a484418b9c58348c8779170": {
          "model_module": "@jupyter-widgets/controls",
          "model_name": "DescriptionStyleModel",
          "model_module_version": "1.5.0",
          "state": {
            "_view_name": "StyleView",
            "_model_name": "DescriptionStyleModel",
            "description_width": "",
            "_view_module": "@jupyter-widgets/base",
            "_model_module_version": "1.5.0",
            "_view_count": null,
            "_view_module_version": "1.2.0",
            "_model_module": "@jupyter-widgets/controls"
          }
        },
        "e95d11c8e703475f9cadbf54bf74ba9f": {
          "model_module": "@jupyter-widgets/base",
          "model_name": "LayoutModel",
          "model_module_version": "1.2.0",
          "state": {
            "_view_name": "LayoutView",
            "grid_template_rows": null,
            "right": null,
            "justify_content": null,
            "_view_module": "@jupyter-widgets/base",
            "overflow": null,
            "_model_module_version": "1.2.0",
            "_view_count": null,
            "flex_flow": null,
            "width": null,
            "min_width": null,
            "border": null,
            "align_items": null,
            "bottom": null,
            "_model_module": "@jupyter-widgets/base",
            "top": null,
            "grid_column": null,
            "overflow_y": null,
            "overflow_x": null,
            "grid_auto_flow": null,
            "grid_area": null,
            "grid_template_columns": null,
            "flex": null,
            "_model_name": "LayoutModel",
            "justify_items": null,
            "grid_row": null,
            "max_height": null,
            "align_content": null,
            "visibility": null,
            "align_self": null,
            "height": null,
            "min_height": null,
            "padding": null,
            "grid_auto_rows": null,
            "grid_gap": null,
            "max_width": null,
            "order": null,
            "_view_module_version": "1.2.0",
            "grid_template_areas": null,
            "object_position": null,
            "object_fit": null,
            "grid_auto_columns": null,
            "margin": null,
            "display": null,
            "left": null
          }
        },
        "afcf039c674c4747b95e5e5489720217": {
          "model_module": "@jupyter-widgets/controls",
          "model_name": "ProgressStyleModel",
          "model_module_version": "1.5.0",
          "state": {
            "_view_name": "StyleView",
            "_model_name": "ProgressStyleModel",
            "description_width": "",
            "_view_module": "@jupyter-widgets/base",
            "_model_module_version": "1.5.0",
            "_view_count": null,
            "_view_module_version": "1.2.0",
            "bar_color": null,
            "_model_module": "@jupyter-widgets/controls"
          }
        },
        "dbdaa9643d7a484c96f06f024a0c1919": {
          "model_module": "@jupyter-widgets/base",
          "model_name": "LayoutModel",
          "model_module_version": "1.2.0",
          "state": {
            "_view_name": "LayoutView",
            "grid_template_rows": null,
            "right": null,
            "justify_content": null,
            "_view_module": "@jupyter-widgets/base",
            "overflow": null,
            "_model_module_version": "1.2.0",
            "_view_count": null,
            "flex_flow": null,
            "width": null,
            "min_width": null,
            "border": null,
            "align_items": null,
            "bottom": null,
            "_model_module": "@jupyter-widgets/base",
            "top": null,
            "grid_column": null,
            "overflow_y": null,
            "overflow_x": null,
            "grid_auto_flow": null,
            "grid_area": null,
            "grid_template_columns": null,
            "flex": null,
            "_model_name": "LayoutModel",
            "justify_items": null,
            "grid_row": null,
            "max_height": null,
            "align_content": null,
            "visibility": null,
            "align_self": null,
            "height": null,
            "min_height": null,
            "padding": null,
            "grid_auto_rows": null,
            "grid_gap": null,
            "max_width": null,
            "order": null,
            "_view_module_version": "1.2.0",
            "grid_template_areas": null,
            "object_position": null,
            "object_fit": null,
            "grid_auto_columns": null,
            "margin": null,
            "display": null,
            "left": null
          }
        },
        "229be1433a0e4c089d62ea02a909d71c": {
          "model_module": "@jupyter-widgets/controls",
          "model_name": "DescriptionStyleModel",
          "model_module_version": "1.5.0",
          "state": {
            "_view_name": "StyleView",
            "_model_name": "DescriptionStyleModel",
            "description_width": "",
            "_view_module": "@jupyter-widgets/base",
            "_model_module_version": "1.5.0",
            "_view_count": null,
            "_view_module_version": "1.2.0",
            "_model_module": "@jupyter-widgets/controls"
          }
        },
        "5ee5ae84142940f6a159085c04194067": {
          "model_module": "@jupyter-widgets/base",
          "model_name": "LayoutModel",
          "model_module_version": "1.2.0",
          "state": {
            "_view_name": "LayoutView",
            "grid_template_rows": null,
            "right": null,
            "justify_content": null,
            "_view_module": "@jupyter-widgets/base",
            "overflow": null,
            "_model_module_version": "1.2.0",
            "_view_count": null,
            "flex_flow": null,
            "width": null,
            "min_width": null,
            "border": null,
            "align_items": null,
            "bottom": null,
            "_model_module": "@jupyter-widgets/base",
            "top": null,
            "grid_column": null,
            "overflow_y": null,
            "overflow_x": null,
            "grid_auto_flow": null,
            "grid_area": null,
            "grid_template_columns": null,
            "flex": null,
            "_model_name": "LayoutModel",
            "justify_items": null,
            "grid_row": null,
            "max_height": null,
            "align_content": null,
            "visibility": null,
            "align_self": null,
            "height": null,
            "min_height": null,
            "padding": null,
            "grid_auto_rows": null,
            "grid_gap": null,
            "max_width": null,
            "order": null,
            "_view_module_version": "1.2.0",
            "grid_template_areas": null,
            "object_position": null,
            "object_fit": null,
            "grid_auto_columns": null,
            "margin": null,
            "display": null,
            "left": null
          }
        }
      }
    }
  },
  "cells": [
    {
      "cell_type": "code",
      "metadata": {
        "colab": {
          "base_uri": "https://localhost:8080/"
        },
        "id": "leKq32WqzabI",
        "outputId": "596b4cf0-44e3-4d66-c567-843801c6ed44"
      },
      "source": [
        "!pip install vk chart_studio pydataverse"
      ],
      "execution_count": null,
      "outputs": [
        {
          "output_type": "stream",
          "name": "stdout",
          "text": [
            "Requirement already satisfied: vk in /usr/local/lib/python3.7/dist-packages (2.0.2)\n",
            "Requirement already satisfied: chart_studio in /usr/local/lib/python3.7/dist-packages (1.1.0)\n",
            "Requirement already satisfied: pydataverse in /usr/local/lib/python3.7/dist-packages (0.3.1)\n",
            "Requirement already satisfied: requests<3.0,>=2.8 in /usr/local/lib/python3.7/dist-packages (from vk) (2.23.0)\n",
            "Requirement already satisfied: idna<3,>=2.5 in /usr/local/lib/python3.7/dist-packages (from requests<3.0,>=2.8->vk) (2.10)\n",
            "Requirement already satisfied: urllib3!=1.25.0,!=1.25.1,<1.26,>=1.21.1 in /usr/local/lib/python3.7/dist-packages (from requests<3.0,>=2.8->vk) (1.24.3)\n",
            "Requirement already satisfied: chardet<4,>=3.0.2 in /usr/local/lib/python3.7/dist-packages (from requests<3.0,>=2.8->vk) (3.0.4)\n",
            "Requirement already satisfied: certifi>=2017.4.17 in /usr/local/lib/python3.7/dist-packages (from requests<3.0,>=2.8->vk) (2021.10.8)\n",
            "Requirement already satisfied: six in /usr/local/lib/python3.7/dist-packages (from chart_studio) (1.15.0)\n",
            "Requirement already satisfied: retrying>=1.3.3 in /usr/local/lib/python3.7/dist-packages (from chart_studio) (1.3.3)\n",
            "Requirement already satisfied: plotly in /usr/local/lib/python3.7/dist-packages (from chart_studio) (4.4.1)\n",
            "Requirement already satisfied: jsonschema>=3.2.0 in /usr/local/lib/python3.7/dist-packages (from pydataverse) (4.2.1)\n",
            "Requirement already satisfied: importlib-resources>=1.4.0 in /usr/local/lib/python3.7/dist-packages (from jsonschema>=3.2.0->pydataverse) (5.4.0)\n",
            "Requirement already satisfied: importlib-metadata in /usr/local/lib/python3.7/dist-packages (from jsonschema>=3.2.0->pydataverse) (4.8.2)\n",
            "Requirement already satisfied: attrs>=17.4.0 in /usr/local/lib/python3.7/dist-packages (from jsonschema>=3.2.0->pydataverse) (21.2.0)\n",
            "Requirement already satisfied: pyrsistent!=0.17.0,!=0.17.1,!=0.17.2,>=0.14.0 in /usr/local/lib/python3.7/dist-packages (from jsonschema>=3.2.0->pydataverse) (0.18.0)\n",
            "Requirement already satisfied: zipp>=3.1.0 in /usr/local/lib/python3.7/dist-packages (from importlib-resources>=1.4.0->jsonschema>=3.2.0->pydataverse) (3.6.0)\n",
            "Requirement already satisfied: typing-extensions>=3.6.4 in /usr/local/lib/python3.7/dist-packages (from importlib-metadata->jsonschema>=3.2.0->pydataverse) (3.10.0.2)\n"
          ]
        }
      ]
    },
    {
      "cell_type": "code",
      "metadata": {
        "colab": {
          "base_uri": "https://localhost:8080/"
        },
        "id": "XmmbKcg6zgv0",
        "outputId": "47b6f70e-95da-4fb1-afd3-7fc7d1c167e1"
      },
      "source": [
        "import pandas as pd\n",
        "import scipy.sparse as sprs\n",
        "import vk\n",
        "import time\n",
        "from tqdm.auto import tqdm\n",
        "import os\n",
        "import gc\n",
        "import numpy as np\n",
        "from scipy.sparse import csr_matrix, lil_matrix\n",
        "import matplotlib.pyplot as plt\n",
        "import networkx as nx\n",
        "import seaborn as sns\n",
        "import scipy\n",
        "import random\n",
        "from scipy import stats\n",
        "import chart_studio.plotly as py\n",
        "import plotly.graph_objs as go\n",
        "from scipy.stats import binom\n",
        "import math\n",
        "from matplotlib import mlab\n",
        "import pylab\n",
        "from statsmodels.stats.proportion import proportion_confint"
      ],
      "execution_count": null,
      "outputs": [
        {
          "output_type": "stream",
          "name": "stderr",
          "text": [
            "/usr/local/lib/python3.7/dist-packages/statsmodels/tools/_testing.py:19: FutureWarning:\n",
            "\n",
            "pandas.util.testing is deprecated. Use the functions in the public API at pandas.testing instead.\n",
            "\n"
          ]
        }
      ]
    },
    {
      "cell_type": "code",
      "metadata": {
        "id": "wl6OVOz9zabL"
      },
      "source": [
        "def op_distr(x, xlabel_name, limits, yscale, density_value):\n",
        "    plt.figure(figsize=(5, 5))\n",
        "    n, bins, patches = plt.hist(x, 50, density=density_value, facecolor='grey')\n",
        "    if yscale == 'log':\n",
        "        plt.yscale('log')\n",
        "    else:\n",
        "        plt.ticklabel_format(style='sci', axis='y', scilimits=(0,0))\n",
        "    plt.xlabel(xlabel_name, fontsize = 15)\n",
        "    plt.xlim(limits[0], limits[1])\n",
        "    plt.grid(True)\n",
        "    plt.savefig('image.pdf')\n",
        "    plt.show()\n",
        "    #plt.savefig('image.pdf')\n",
        "    return 0\n",
        "\n",
        "def assortativity(t):\n",
        "    \n",
        "    labels = np.array(data['$p_{i}(t_{' + str(t) + '})$'])\n",
        "\n",
        "    labels_new = np.around(labels*10, decimals=1)\n",
        "    labels_new = labels_new.astype(int)\n",
        "\n",
        "    opinion_dict = {i: labels_new[i] for i in range(len(labels_new))}\n",
        "    nx.set_node_attributes(Graph, opinion_dict, 'opinion')\n",
        "    print(nx.numeric_assortativity_coefficient(Graph, 'opinion'))\n",
        "    \n",
        "    return 0"
      ],
      "execution_count": null,
      "outputs": []
    },
    {
      "cell_type": "code",
      "metadata": {
        "id": "TV2FlKmrzabL"
      },
      "source": [
        "#SUPPRESS SCIENTIFIC NOTATION\n",
        "pd.set_option('display.float_format', lambda x: '%.2f' % x)"
      ],
      "execution_count": null,
      "outputs": []
    },
    {
      "cell_type": "markdown",
      "metadata": {
        "id": "k7_yR7j8zabM"
      },
      "source": [
        "# Download Data"
      ]
    },
    {
      "cell_type": "markdown",
      "metadata": {
        "id": "Gk5FROcMzabM"
      },
      "source": [
        "## Download and save a dataset to disk by `pydataverse`"
      ]
    },
    {
      "cell_type": "code",
      "metadata": {
        "colab": {
          "base_uri": "https://localhost:8080/"
        },
        "id": "wZHL5zf50F4q",
        "outputId": "0c14c345-ac90-4c95-b258-eb3c7eb52474"
      },
      "source": [
        "from pyDataverse.api import NativeApi, DataAccessApi\n",
        "from pyDataverse.models import Dataverse\n",
        "\n",
        "base_url = 'https://dataverse.harvard.edu/'\n",
        "api = NativeApi(base_url)\n",
        "data_api = DataAccessApi(base_url)\n",
        "\n",
        "DOI = \"doi:10.7910/DVN/CLI1PC\"\n",
        "\n",
        "dataset = api.get_dataset(DOI)\n",
        "\n",
        "files_list = dataset.json()['data']['latestVersion']['files']\n",
        "\n",
        "for file in files_list:\n",
        "    filename = file[\"dataFile\"][\"filename\"]\n",
        "    file_id = file[\"dataFile\"][\"id\"]\n",
        "    print(\"File name {}, id {}\".format(filename, file_id))\n",
        "\n",
        "    response = data_api.get_datafile(file_id)\n",
        "    with open(filename, \"wb\") as f:\n",
        "        f.write(response.content)"
      ],
      "execution_count": null,
      "outputs": [
        {
          "output_type": "stream",
          "name": "stdout",
          "text": [
            "File name Code.ipynb, id 3849476\n",
            "File name X_friends.npz, id 3664838\n",
            "File name X_opinions.scv, id 3664839\n"
          ]
        }
      ]
    },
    {
      "cell_type": "code",
      "metadata": {
        "colab": {
          "base_uri": "https://localhost:8080/"
        },
        "id": "nDJHLQX1zabN",
        "outputId": "3d0295e9-b52e-4ba0-ff68-c03131195878"
      },
      "source": [
        "data = pd.read_csv('X_opinions.scv')\n",
        "data.drop(['Unnamed: 0'], axis=1, inplace=True)\n",
        "print(data.shape)"
      ],
      "execution_count": null,
      "outputs": [
        {
          "output_type": "stream",
          "name": "stdout",
          "text": [
            "(1660927, 6)\n"
          ]
        }
      ]
    },
    {
      "cell_type": "code",
      "metadata": {
        "colab": {
          "base_uri": "https://localhost:8080/",
          "height": 222
        },
        "id": "gViXF3AtzabO",
        "outputId": "f2ed4adb-f9fe-413d-e52f-c63f66e592d8"
      },
      "source": [
        "data.head()"
      ],
      "execution_count": null,
      "outputs": [
        {
          "output_type": "execute_result",
          "data": {
            "text/html": [
              "<div>\n",
              "<style scoped>\n",
              "    .dataframe tbody tr th:only-of-type {\n",
              "        vertical-align: middle;\n",
              "    }\n",
              "\n",
              "    .dataframe tbody tr th {\n",
              "        vertical-align: top;\n",
              "    }\n",
              "\n",
              "    .dataframe thead th {\n",
              "        text-align: right;\n",
              "    }\n",
              "</style>\n",
              "<table border=\"1\" class=\"dataframe\">\n",
              "  <thead>\n",
              "    <tr style=\"text-align: right;\">\n",
              "      <th></th>\n",
              "      <th>$\\hat{x}_{i}(t_{1})$</th>\n",
              "      <th>$\\hat{x}_{i}(t_{2})$</th>\n",
              "      <th>$\\hat{x}_{i}(t_{3})$</th>\n",
              "      <th>$\\hat{x}_{-i}(t_{1})$</th>\n",
              "      <th>$\\hat{x}_{-i}(t_{2})$</th>\n",
              "      <th>$\\hat{x}_{-i}(t_{3})$</th>\n",
              "    </tr>\n",
              "  </thead>\n",
              "  <tbody>\n",
              "    <tr>\n",
              "      <th>0</th>\n",
              "      <td>0.51</td>\n",
              "      <td>0.51</td>\n",
              "      <td>0.51</td>\n",
              "      <td>0.41</td>\n",
              "      <td>0.47</td>\n",
              "      <td>0.46</td>\n",
              "    </tr>\n",
              "    <tr>\n",
              "      <th>1</th>\n",
              "      <td>0.19</td>\n",
              "      <td>0.19</td>\n",
              "      <td>0.19</td>\n",
              "      <td>0.54</td>\n",
              "      <td>0.58</td>\n",
              "      <td>0.58</td>\n",
              "    </tr>\n",
              "    <tr>\n",
              "      <th>2</th>\n",
              "      <td>0.60</td>\n",
              "      <td>0.60</td>\n",
              "      <td>0.60</td>\n",
              "      <td>0.33</td>\n",
              "      <td>0.31</td>\n",
              "      <td>0.29</td>\n",
              "    </tr>\n",
              "    <tr>\n",
              "      <th>3</th>\n",
              "      <td>0.61</td>\n",
              "      <td>0.61</td>\n",
              "      <td>0.64</td>\n",
              "      <td>0.41</td>\n",
              "      <td>0.41</td>\n",
              "      <td>0.41</td>\n",
              "    </tr>\n",
              "    <tr>\n",
              "      <th>4</th>\n",
              "      <td>0.73</td>\n",
              "      <td>0.72</td>\n",
              "      <td>0.73</td>\n",
              "      <td>0.61</td>\n",
              "      <td>0.62</td>\n",
              "      <td>0.61</td>\n",
              "    </tr>\n",
              "  </tbody>\n",
              "</table>\n",
              "</div>"
            ],
            "text/plain": [
              "   $\\hat{x}_{i}(t_{1})$  ...  $\\hat{x}_{-i}(t_{3})$\n",
              "0                  0.51  ...                   0.46\n",
              "1                  0.19  ...                   0.58\n",
              "2                  0.60  ...                   0.29\n",
              "3                  0.61  ...                   0.41\n",
              "4                  0.73  ...                   0.61\n",
              "\n",
              "[5 rows x 6 columns]"
            ]
          },
          "metadata": {},
          "execution_count": 7
        }
      ]
    },
    {
      "cell_type": "markdown",
      "metadata": {
        "id": "wRD3wUJxzabO"
      },
      "source": [
        "## Download A"
      ]
    },
    {
      "cell_type": "code",
      "metadata": {
        "colab": {
          "base_uri": "https://localhost:8080/"
        },
        "id": "o_YNp5OyzabP",
        "outputId": "00988ad2-9c1d-46a9-f93a-555f1ef9afde"
      },
      "source": [
        "A = sprs.load_npz('X_friends.npz')\n",
        "\n",
        "print(A.shape)"
      ],
      "execution_count": null,
      "outputs": [
        {
          "output_type": "stream",
          "name": "stdout",
          "text": [
            "(1660927, 1660927)\n"
          ]
        }
      ]
    },
    {
      "cell_type": "markdown",
      "metadata": {
        "id": "Ekgt531FzabP"
      },
      "source": [
        "# Histograms"
      ]
    },
    {
      "cell_type": "code",
      "metadata": {
        "id": "W7GjC3SfzabP"
      },
      "source": [
        "t_1 = 1\n",
        "t_2 = 2\n",
        "t_3 = 3\n",
        "\n",
        "x_1 = '$\\hat{x}_{i}(t_{' + str(t_1) + '})$'\n",
        "x_2 = '$\\hat{x}_{i}(t_{' + str(t_2) + '})$'\n",
        "x_3 = '$\\hat{x}_{i}(t_{' + str(t_3) + '})$'\n",
        "\n",
        "fr_1 = '$\\hat{x}_{-i}(t_{' + str(t_1) + '})$'\n",
        "fr_2 = '$\\hat{x}_{-i}(t_{' + str(t_2) + '})$'\n",
        "fr_3 = '$\\hat{x}_{-i}(t_{' + str(t_3) + '})$'"
      ],
      "execution_count": null,
      "outputs": []
    },
    {
      "cell_type": "code",
      "metadata": {
        "colab": {
          "base_uri": "https://localhost:8080/",
          "height": 373
        },
        "id": "_vuGQBokzabQ",
        "outputId": "d9db08e8-7b7a-4077-d916-6d2a405bb069"
      },
      "source": [
        "x = data[x_3]\n",
        "xlabel_name = x_3\n",
        "limits = (0, 1)\n",
        "yscale = 'norm'\n",
        "density_value = False\n",
        "\n",
        "op_distr(x, xlabel_name, limits, yscale, density_value)"
      ],
      "execution_count": null,
      "outputs": [
        {
          "output_type": "display_data",
          "data": {
            "image/png": "[encoded data removed]",
            "text/plain": [
              "<Figure size 360x360 with 1 Axes>"
            ]
          },
          "metadata": {
            "needs_background": "light"
          }
        },
        {
          "output_type": "execute_result",
          "data": {
            "text/plain": [
              "0"
            ]
          },
          "metadata": {},
          "execution_count": 10
        }
      ]
    },
    {
      "cell_type": "code",
      "metadata": {
        "colab": {
          "base_uri": "https://localhost:8080/",
          "height": 373
        },
        "id": "yrJTdu5mzabQ",
        "outputId": "7fa1d539-913c-4ed8-dc1f-a109b8e8cfd3"
      },
      "source": [
        "x = data[fr_3]\n",
        "xlabel_name = fr_3\n",
        "limits = (0, 1)\n",
        "yscale = 'norm'\n",
        "density_value = False\n",
        "\n",
        "op_distr(x, xlabel_name, limits, yscale, density_value)"
      ],
      "execution_count": null,
      "outputs": [
        {
          "output_type": "display_data",
          "data": {
            "image/png": "[encoded data removed]",
            "text/plain": [
              "<Figure size 360x360 with 1 Axes>"
            ]
          },
          "metadata": {
            "needs_background": "light"
          }
        },
        {
          "output_type": "execute_result",
          "data": {
            "text/plain": [
              "0"
            ]
          },
          "metadata": {},
          "execution_count": 11
        }
      ]
    },
    {
      "cell_type": "code",
      "metadata": {
        "colab": {
          "base_uri": "https://localhost:8080/",
          "height": 362
        },
        "id": "jEc2ZmqpzabQ",
        "outputId": "429f87fe-f34f-43fa-818c-9f23316f8c1d"
      },
      "source": [
        "x = data[x_2] - data[x_1]\n",
        "xlabel_name = x_2 + '-' + x_1\n",
        "limits = (-1, 1)\n",
        "yscale = 'log'\n",
        "density_value = False\n",
        "\n",
        "op_distr(x, xlabel_name, limits, yscale, density_value)"
      ],
      "execution_count": null,
      "outputs": [
        {
          "output_type": "display_data",
          "data": {
            "image/png": "[encoded data removed]",
            "text/plain": [
              "<Figure size 360x360 with 1 Axes>"
            ]
          },
          "metadata": {
            "needs_background": "light"
          }
        },
        {
          "output_type": "execute_result",
          "data": {
            "text/plain": [
              "0"
            ]
          },
          "metadata": {},
          "execution_count": 12
        }
      ]
    },
    {
      "cell_type": "markdown",
      "metadata": {
        "id": "fehDVuIYzabR"
      },
      "source": [
        "# Vertex Degree Distribution"
      ]
    },
    {
      "cell_type": "code",
      "metadata": {
        "id": "hkJ_8ezXzabR"
      },
      "source": [
        "degrees = np.array(A.sum(axis=1)).ravel()  #degrees of vertices"
      ],
      "execution_count": null,
      "outputs": []
    },
    {
      "cell_type": "code",
      "metadata": {
        "colab": {
          "base_uri": "https://localhost:8080/",
          "height": 348
        },
        "id": "HRgVHe4_zabR",
        "outputId": "6985de5b-7da0-476a-a7fb-bf7154f56ceb"
      },
      "source": [
        "#plt.figure(figsize=(5, 5))\n",
        "plt.rcParams.update({'font.size': 15})\n",
        "pd.DataFrame(degrees, columns=[None]).hist(color='grey', figsize=(8, 5), bins=np.logspace(0, 3.4, 20))\n",
        "plt.xscale('log')\n",
        "plt.yscale('log')\n",
        "#plt.bar(color='grey')\n",
        "plt.xlabel('Number of friends $k$', fontsize = 15)\n",
        "#plt.ylabel('Number of users with $k$ friends', fontsize = 15)\n",
        "plt.savefig('image.pdf')\n",
        "plt.show()"
      ],
      "execution_count": null,
      "outputs": [
        {
          "output_type": "display_data",
          "data": {
            "image/png": "[encoded data removed]",
            "text/plain": [
              "<Figure size 576x360 with 1 Axes>"
            ]
          },
          "metadata": {
            "needs_background": "light"
          }
        }
      ]
    },
    {
      "cell_type": "code",
      "metadata": {
        "colab": {
          "base_uri": "https://localhost:8080/",
          "height": 83,
          "referenced_widgets": [
            "5237c9f6bd2a4823b63f5923a83da223",
            "f536573ad9f14e948a8851169276ba32",
            "ab027682d84f440d8db8a0bdfa3fa799",
            "8c260085212f474a9a45e080cde702d7",
            "75a93287ae0d453292f4050b192e9c43",
            "1d621b4b2a484418b9c58348c8779170",
            "e95d11c8e703475f9cadbf54bf74ba9f",
            "afcf039c674c4747b95e5e5489720217",
            "dbdaa9643d7a484c96f06f024a0c1919",
            "229be1433a0e4c089d62ea02a909d71c",
            "5ee5ae84142940f6a159085c04194067"
          ]
        },
        "id": "yqlaAa4_zabR",
        "outputId": "61863b5a-8cef-4f2b-a2b8-1b63cf2289c0"
      },
      "source": [
        "k_min = 15  #the minimum degree for which the power law\n",
        "\n",
        "degrees_k_min = degrees[degrees >= k_min]  #degree of vertices who have greater than or equal to k_min neqighboors\n",
        "\n",
        "N = len(degrees_k_min)  #the number of vertices with degree greater than or equal to k_min\n",
        "\n",
        "\n",
        "sum_value = 0\n",
        "\n",
        "for i in tqdm(degrees_k_min):\n",
        "    term = i / (k_min - 1/2)\n",
        "    sum_value = sum_value + math.log(term)\n",
        "    \n",
        "exp = N / sum_value + 1\n",
        "error = (exp - 1) / math.sqrt(N) \n",
        "\n",
        "print(exp)\n",
        "print(error)"
      ],
      "execution_count": null,
      "outputs": [
        {
          "output_type": "display_data",
          "data": {
            "application/vnd.jupyter.widget-view+json": {
              "model_id": "5237c9f6bd2a4823b63f5923a83da223",
              "version_minor": 0,
              "version_major": 2
            },
            "text/plain": [
              "  0%|          | 0/655200 [00:00<?, ?it/s]"
            ]
          },
          "metadata": {}
        },
        {
          "output_type": "stream",
          "name": "stdout",
          "text": [
            "2.414495426477089\n",
            "0.001747489613827325\n"
          ]
        }
      ]
    },
    {
      "cell_type": "markdown",
      "metadata": {
        "id": "cp7vwSN5zabS"
      },
      "source": [
        "# Assortativity"
      ]
    },
    {
      "cell_type": "markdown",
      "metadata": {
        "id": "PkPDTq7WzabS"
      },
      "source": [
        "#### Create an Object Graph"
      ]
    },
    {
      "cell_type": "code",
      "metadata": {
        "id": "dMyaNToKzabS"
      },
      "source": [
        "Graph = nx.from_scipy_sparse_matrix(A)"
      ],
      "execution_count": null,
      "outputs": []
    },
    {
      "cell_type": "markdown",
      "metadata": {
        "id": "NWc-iBxUzabS"
      },
      "source": [
        "#### t1"
      ]
    },
    {
      "cell_type": "code",
      "metadata": {
        "id": "Ld00lIkxzabS"
      },
      "source": [
        "t = 1\n",
        "\n",
        "assortativity(t)"
      ],
      "execution_count": null,
      "outputs": []
    },
    {
      "cell_type": "markdown",
      "metadata": {
        "id": "99U1v8t3zabS"
      },
      "source": [
        "#### t2"
      ]
    },
    {
      "cell_type": "code",
      "metadata": {
        "id": "cu0nj_6jzabT"
      },
      "source": [
        "t = 2\n",
        "\n",
        "assortativity(t)"
      ],
      "execution_count": null,
      "outputs": []
    },
    {
      "cell_type": "markdown",
      "metadata": {
        "id": "71i5586CzabT"
      },
      "source": [
        "#### t3"
      ]
    },
    {
      "cell_type": "code",
      "metadata": {
        "id": "0tM2eNThzabT"
      },
      "source": [
        "t = 3\n",
        "\n",
        "assortativity(t)"
      ],
      "execution_count": null,
      "outputs": []
    },
    {
      "cell_type": "markdown",
      "metadata": {
        "id": "Yf1PcyHnzabT"
      },
      "source": [
        "# Mean Assortativity"
      ]
    },
    {
      "cell_type": "code",
      "metadata": {
        "id": "cp8DqxEnzabT"
      },
      "source": [
        "N = 20\n",
        "threshold_values = np.array(range(N + 1)) / N\n",
        "\n",
        "t_1 = 1\n",
        "t_2 = 2\n",
        "t_3 = 3\n",
        "\n",
        "x_1 = '$\\hat{x}_{i}(t_{' + str(t_1) + '})$'\n",
        "x_2 = '$\\hat{x}_{i}(t_{' + str(t_2) + '})$'\n",
        "x_3 = '$\\hat{x}_{i}(t_{' + str(t_3) + '})$'\n",
        "\n",
        "fr_1 = '$\\hat{x}_{-i}(t_{' + str(t_1) + '})$'\n",
        "fr_2 = '$\\hat{x}_{-i}(t_{' + str(t_2) + '})$'\n",
        "fr_3 = '$\\hat{x}_{-i}(t_{' + str(t_3) + '})$'\n",
        "\n",
        "results = np.zeros((3, len(threshold_values) - 1))\n",
        "populations = np.zeros((3, len(threshold_values) - 1))\n",
        "\n",
        "list_of_hist_1 = []\n",
        "list_of_hist_2 = []\n",
        "list_of_hist_3 = []\n",
        "\n",
        "for j in tqdm(range(len(threshold_values) - 1)):\n",
        "    \n",
        "    #print('j =', j)\n",
        "    \n",
        "    #First Time Moment\n",
        "    \n",
        "    thresholds_j = (threshold_values[j], threshold_values[j+1])\n",
        "\n",
        "    if j:\n",
        "        cond_self_position = (data[x_1] > thresholds_j[0]) & (data[x_1] <= thresholds_j[1])\n",
        "    else:\n",
        "        cond_self_position = (data[x_1] >= thresholds_j[0]) & (data[x_1] <= thresholds_j[1])\n",
        "    \n",
        "    data_sample = data[cond_self_position] \n",
        "    results[0, j] = data_sample[fr_1].mean()\n",
        "    populations[0, j] = data_sample.shape[0]\n",
        "    \n",
        "    list_of_hist_1.append(data_sample[fr_1].to_numpy())\n",
        "    \n",
        "    #Second Time Moment\n",
        "    \n",
        "    if j:\n",
        "        cond_self_position = (data[x_2] > thresholds_j[0]) & (data[x_2] <= thresholds_j[1])\n",
        "    else:\n",
        "        cond_self_position = (data[x_2] >= thresholds_j[0]) & (data[x_2] <= thresholds_j[1])\n",
        "    \n",
        "    data_sample = data[cond_self_position] \n",
        "    results[1, j] = data_sample[fr_2].mean()\n",
        "    populations[1, j] = data_sample.shape[0]\n",
        "    list_of_hist_2.append(data_sample[fr_2].to_numpy())\n",
        "    \n",
        "    #Third Time Moment\n",
        "    \n",
        "    if j:\n",
        "        cond_self_position = (data[x_3] > thresholds_j[0]) & (data[x_3] <= thresholds_j[1])\n",
        "    else:\n",
        "        cond_self_position = (data[x_3] >= thresholds_j[0]) & (data[x_3] <= thresholds_j[1])\n",
        "    \n",
        "    data_sample = data[cond_self_position] \n",
        "    results[2, j] = data_sample[fr_3].mean()\n",
        "    populations[2, j] = data_sample.shape[0]\n",
        "    list_of_hist_3.append(data_sample[fr_3].to_numpy())\n",
        "    \n",
        "    #print('########################')"
      ],
      "execution_count": null,
      "outputs": []
    },
    {
      "cell_type": "markdown",
      "metadata": {
        "id": "27OSyknQzabT"
      },
      "source": [
        "## Distributions of friends' average opinions"
      ]
    },
    {
      "cell_type": "markdown",
      "metadata": {
        "id": "zy84CCwizabU"
      },
      "source": [
        "### k=1, j=1, j=10, j=20"
      ]
    },
    {
      "cell_type": "code",
      "metadata": {
        "id": "7Z9PbiRCzabU"
      },
      "source": [
        "fig_size = 7\n",
        "labelsize = 15\n",
        "plt.figure(figsize=(fig_size, fig_size))\n",
        "plt.rcParams['xtick.labelsize'] = labelsize\n",
        "plt.rcParams['ytick.labelsize'] = labelsize\n",
        "\n",
        "j=1\n",
        "sns.kdeplot(pd.DataFrame(list_of_hist_1[j-1], columns=['j=' + str(j)])['j=' + str(j)], \n",
        "            shade=True, legend=True)\n",
        "j=10\n",
        "sns.kdeplot(pd.DataFrame(list_of_hist_1[j-1], columns=['j=' + str(j)])['j=' + str(j)], \n",
        "            shade=True, legend=True)\n",
        "j=20\n",
        "sns.kdeplot(pd.DataFrame(list_of_hist_1[j-1], columns=['j=' + str(j)])['j=' + str(j)], \n",
        "            shade=True, legend=True)\n",
        "\n",
        "plt.xlabel(\"$\\hat{p}_{-i}(t_{1})$\", fontsize = 20)\n",
        "\n",
        "#\n",
        "#plt.savefig('image.pdf')\n",
        "plt.show()"
      ],
      "execution_count": null,
      "outputs": []
    },
    {
      "cell_type": "code",
      "metadata": {
        "id": "-hAQN0bbzabU"
      },
      "source": [
        "fig_size = 7\n",
        "labelsize = 15\n",
        "plt.figure(figsize=(fig_size, fig_size))\n",
        "plt.rcParams['xtick.labelsize'] = labelsize\n",
        "plt.rcParams['ytick.labelsize'] = labelsize\n",
        "\n",
        "j=1\n",
        "sns.kdeplot(pd.DataFrame(list_of_hist_1[j-1], columns=['j=' + str(j)])['j=' + str(j)], \n",
        "            shade=True, color='silver', legend=True)\n",
        "j=10\n",
        "sns.kdeplot(pd.DataFrame(list_of_hist_1[j-1], columns=['j=' + str(j)])['j=' + str(j)], \n",
        "            shade=True, color='grey', legend=True)\n",
        "j=20\n",
        "sns.kdeplot(pd.DataFrame(list_of_hist_1[j-1], columns=['j=' + str(j)])['j=' + str(j)], \n",
        "            shade=True, color='black', legend=True)\n",
        "\n",
        "plt.xlabel(\"$\\hat{x}_{-i}(t_{1})$\", fontsize = 20)\n",
        "\n",
        "#\n",
        "plt.savefig('image.pdf')\n",
        "plt.show()"
      ],
      "execution_count": null,
      "outputs": []
    },
    {
      "cell_type": "markdown",
      "metadata": {
        "id": "uuFxPCxOzabU"
      },
      "source": [
        "### k=1"
      ]
    },
    {
      "cell_type": "code",
      "metadata": {
        "id": "MYCeOW1tzabU"
      },
      "source": [
        "for j in range(1, len(list_of_hist_1)+1):\n",
        "    sns.kdeplot(pd.DataFrame(list_of_hist_1[j-1], columns=['j=' + str(j)])['j=' + str(j)], \n",
        "                shade=True, legend=True) \n",
        "    plt.xlabel(\"$\\hat{x}_{-i}(t_{1})$\", fontsize = 15)\n",
        "    plt.show()\n",
        "    "
      ],
      "execution_count": null,
      "outputs": []
    },
    {
      "cell_type": "markdown",
      "metadata": {
        "id": "QPtVeLLhzabU"
      },
      "source": [
        "### k=2"
      ]
    },
    {
      "cell_type": "code",
      "metadata": {
        "id": "bkzH8hwYzabU"
      },
      "source": [
        "for j in range(1, len(list_of_hist_1)+1):\n",
        "    sns.kdeplot(pd.DataFrame(list_of_hist_2[j-1], columns=['j=' + str(j)])['j=' + str(j)], \n",
        "                shade=True, legend=True) \n",
        "    plt.xlabel(\"$\\hat{x}_{-i}(t_{2})$\", fontsize = 15)\n",
        "    plt.show()\n",
        "    "
      ],
      "execution_count": null,
      "outputs": []
    },
    {
      "cell_type": "markdown",
      "metadata": {
        "id": "fNzg-7ZqzabU"
      },
      "source": [
        "### k=3"
      ]
    },
    {
      "cell_type": "code",
      "metadata": {
        "id": "O6yRGuEczabV"
      },
      "source": [
        "for j in range(1, len(list_of_hist_1)+1):\n",
        "    sns.kdeplot(pd.DataFrame(list_of_hist_3[j-1], columns=['j=' + str(j)])['j=' + str(j)], \n",
        "                shade=True, legend=True) \n",
        "    plt.xlabel(\"$\\hat{x}_{-i}(t_{3})$\", fontsize = 15)\n",
        "    plt.show()\n",
        "    "
      ],
      "execution_count": null,
      "outputs": []
    },
    {
      "cell_type": "markdown",
      "metadata": {
        "id": "DK29DSJwzabV"
      },
      "source": [
        "## f(k,j) as a function of j (user's opinion)"
      ]
    },
    {
      "cell_type": "code",
      "metadata": {
        "id": "Eoe7fL2TzabV"
      },
      "source": [
        "fig_size = 7\n",
        "labelsize = 15\n",
        "plt.figure(figsize=(fig_size, fig_size))\n",
        "plt.rcParams['xtick.labelsize'] = labelsize\n",
        "plt.rcParams['ytick.labelsize'] = labelsize\n",
        "x = (threshold_values[1:] - threshold_values[:-1]) / 2 + threshold_values[:-1]\n",
        "plt.grid(True)\n",
        "plt.plot(x, results[0, :], color='red', marker='^', label = 'k=1')\n",
        "plt.plot(x, results[1, :], color='blue', marker='*', label = 'k=2')\n",
        "plt.plot(x, results[2, :], color='green', marker='v', label = 'k=3')\n",
        "plt.xticks(np.arange(0, 1.1, 0.1))\n",
        "plt.yticks(np.arange(0, 1.1, 0.05))\n",
        "plt.ylim(0.4, 0.55)\n",
        "plt.xlabel(\"$\\hat{x}_{i}(t_{k})$\", fontsize = 20)\n",
        "h = plt.ylabel('$f(k,j)$', fontsize = 20)\n",
        "h.set_rotation(0)\n",
        "plt.legend(loc='lower right', fontsize = labelsize)\n",
        "plt.savefig('image.pdf')\n",
        "plt.show()"
      ],
      "execution_count": null,
      "outputs": []
    },
    {
      "cell_type": "markdown",
      "metadata": {
        "id": "PEuqxG7KzabV"
      },
      "source": [
        "## Populations of U(k,j)"
      ]
    },
    {
      "cell_type": "code",
      "metadata": {
        "id": "ZjaQ6MByzabV"
      },
      "source": [
        "pd.DataFrame(populations.T, columns = ['$t_{1}$', '$t_{2}$', '$t_{3}$'], index = np.arange(1, N+1))"
      ],
      "execution_count": null,
      "outputs": []
    },
    {
      "cell_type": "markdown",
      "metadata": {
        "id": "no140gTrzabV"
      },
      "source": [
        "# Estimated Probability of Going Left Having Friends on the Left and on the Right"
      ]
    },
    {
      "cell_type": "code",
      "metadata": {
        "id": "D-V-eiaPzabV"
      },
      "source": [
        "def plot_EP(N, t_1):\n",
        "    #N = 10\n",
        "    threshold_values = np.array(range(N + 1)) / N\n",
        "    Minimal_Interval = 1 / N\n",
        "\n",
        "    #t_1 = 1\n",
        "    t_2 = t_1 + 1\n",
        "\n",
        "    x_1 = '$\\hat{x}_{i}(t_{' + str(t_1) + '})$'\n",
        "    x_2 = '$\\hat{x}_{i}(t_{' + str(t_2) + '})$'\n",
        "\n",
        "\n",
        "    fr_1 = '$\\hat{x}_{-i}(t_{' + str(t_1) + '})$'\n",
        "\n",
        "    results = np.zeros((2, len(threshold_values) - 1))\n",
        "    populations = np.zeros((2, len(threshold_values) - 1))\n",
        "    \n",
        "    conf_int_l_1 = []\n",
        "    conf_int_l_2 = []\n",
        "    \n",
        "    conf_int_r_1 = []\n",
        "    conf_int_r_2 = []\n",
        "    \n",
        "    for j in tqdm(range(len(threshold_values) - 1)):\n",
        "\n",
        "        thresholds_j = (threshold_values[j], threshold_values[j+1])\n",
        "\n",
        "        if j:\n",
        "            cond_self_position = (data[x_1] > thresholds_j[0]) & (data[x_1] <= thresholds_j[1])\n",
        "        else:\n",
        "            cond_self_position = (data[x_1] >= thresholds_j[0]) & (data[x_1] <= thresholds_j[1])\n",
        "\n",
        "        data_sample = data[cond_self_position]\n",
        "\n",
        "        cond_friends_left = data_sample[fr_1] < data_sample[x_1] - Minimal_Interval  # friends on the left\n",
        "        cond_friends_right = data_sample[fr_1] > data_sample[x_1] + Minimal_Interval  # friends on the right\n",
        "\n",
        "        cond_left = data_sample[x_2] < data_sample[x_1] - Minimal_Interval  # go on the left\n",
        "        cond_right = data_sample[x_1] + Minimal_Interval < data_sample[x_2]  # go on the right\n",
        "\n",
        "        LL = data_sample[cond_friends_left & cond_left].shape[0]\n",
        "        LR = data_sample[cond_friends_left & cond_right].shape[0]\n",
        "        RL = data_sample[cond_friends_right & cond_left].shape[0]\n",
        "        RR = data_sample[cond_friends_right & cond_right].shape[0]\n",
        "\n",
        "        if (LL + LR):\n",
        "            res_1 = LL / (LL + LR) \n",
        "        else:\n",
        "            res_1 = None\n",
        "\n",
        "        if (RL + RR):\n",
        "            res_2 = RL / (RL + RR) \n",
        "        else:\n",
        "            res_2 = None\n",
        "\n",
        "        results[0, j] = res_1\n",
        "        results[1, j] = res_2\n",
        "        populations[0, j] = LL + LR\n",
        "        populations[1, j] = RL + RR\n",
        "        \n",
        "        if LL + LR >= 30:\n",
        "            conf_int_l = proportion_confint(LL, LL + LR, alpha=0.05, method='normal')\n",
        "        elif LL + LR > 0:\n",
        "            conf_int_l = proportion_confint(LL, LL + LR, alpha=0.05, method='binom_test')\n",
        "        else:\n",
        "            conf_int_l=(-1, -1)\n",
        "            \n",
        "        conf_int_l_1.append(conf_int_l[0])\n",
        "        conf_int_l_2.append(conf_int_l[1])\n",
        "        \n",
        "        if RL + RR >= 30:\n",
        "            conf_int_r = proportion_confint(RL, RL + RR, alpha=0.05, method='normal')\n",
        "        elif RL + RR > 0:\n",
        "            conf_int_r = proportion_confint(RL, RL + RR, alpha=0.05, method='binom_test')\n",
        "        else:\n",
        "            conf_int_r=(-1, -1)\n",
        "            \n",
        "        conf_int_r_1.append(conf_int_r[0])\n",
        "        conf_int_r_2.append(conf_int_r[1])\n",
        "    \n",
        "    \n",
        "    fig_size = 7\n",
        "    labelsize = 15\n",
        "    plt.figure(figsize=(fig_size, fig_size))\n",
        "    plt.rcParams['xtick.labelsize'] = labelsize\n",
        "    plt.rcParams['ytick.labelsize'] = labelsize\n",
        "    x = (threshold_values[1:] - threshold_values[:-1]) / 2 + threshold_values[:-1]\n",
        "    plt.grid(True)\n",
        "    \n",
        "    plt.plot(x[populations[0, :]>0], \n",
        "             results[0, populations[0, :]>0], \n",
        "             color='red', marker='^', label = 'Friends on the left')\n",
        "    \n",
        "    plt.fill_between(x[populations[0, :]>0], \n",
        "                     np.array(conf_int_l_1)[populations[0, :]>0], \n",
        "                     np.array(conf_int_l_2)[populations[0, :]>0], color='lightcoral', alpha=0.5)\n",
        "    \n",
        "    \n",
        "    plt.plot(x[populations[1, :]>0], \n",
        "             results[1, :][populations[1, :]>0], \n",
        "             color='blue', marker='*', label = 'Friends on the right')\n",
        "    \n",
        "    plt.fill_between(x[populations[1, :]>0], \n",
        "                     np.array(conf_int_r_1)[populations[1, :]>0], \n",
        "                     np.array(conf_int_r_2)[populations[1, :]>0], color='lightsteelblue', alpha=0.5)\n",
        "    \n",
        "    plt.xticks(np.arange(0, 1.1, 0.1))\n",
        "    plt.yticks(np.arange(0, 1.1, 0.1))\n",
        "    plt.xlabel('$\\hat{x}_{i}(t_{' + str(t_1) + '})$', fontsize = labelsize)\n",
        "    plt.ylabel('Estimated Probability of Choosing the Left Direction', fontsize = labelsize)\n",
        "    plt.legend(loc='lower right', fontsize = labelsize)\n",
        "    plt.savefig('image.pdf')\n",
        "    plt.show()    \n",
        "    return populations"
      ],
      "execution_count": null,
      "outputs": []
    },
    {
      "cell_type": "markdown",
      "metadata": {
        "id": "l7OK8CxvzabW"
      },
      "source": [
        "### t1->t2"
      ]
    },
    {
      "cell_type": "code",
      "metadata": {
        "id": "InoborWKzabX"
      },
      "source": [
        "N = 10\n",
        "t_1 = 1\n",
        "\n",
        "populations = plot_EP(N, t_1)"
      ],
      "execution_count": null,
      "outputs": []
    },
    {
      "cell_type": "code",
      "metadata": {
        "id": "J4ClVRhVzabX"
      },
      "source": [
        "N = 40\n",
        "t_1 = 1\n",
        "\n",
        "populations = plot_EP(N, t_1)"
      ],
      "execution_count": null,
      "outputs": []
    },
    {
      "cell_type": "code",
      "metadata": {
        "id": "17q8WapxzabX"
      },
      "source": [
        "N = 20\n",
        "t_1 = 1\n",
        "\n",
        "populations = plot_EP(N, t_1)"
      ],
      "execution_count": null,
      "outputs": []
    },
    {
      "cell_type": "markdown",
      "metadata": {
        "id": "PwBCoR1RzabY"
      },
      "source": [
        "#### Populations"
      ]
    },
    {
      "cell_type": "code",
      "metadata": {
        "id": "jNnuzmyozabY"
      },
      "source": [
        "pd.DataFrame(populations.T, index=np.arange(1, N+1), columns=['Friends on the Left', 'Friends on the Right'])"
      ],
      "execution_count": null,
      "outputs": []
    },
    {
      "cell_type": "markdown",
      "metadata": {
        "id": "o3SnVgiRzabY"
      },
      "source": [
        "### t2->t3"
      ]
    },
    {
      "cell_type": "code",
      "metadata": {
        "id": "6iQSDoeIzabY"
      },
      "source": [
        "N = 10\n",
        "t_1 = 2\n",
        "\n",
        "populations = plot_EP(N, t_1)"
      ],
      "execution_count": null,
      "outputs": []
    },
    {
      "cell_type": "code",
      "metadata": {
        "id": "u3McLFgdzabY"
      },
      "source": [
        "N = 40\n",
        "t_1 = 2\n",
        "\n",
        "populations = plot_EP(N, t_1)"
      ],
      "execution_count": null,
      "outputs": []
    },
    {
      "cell_type": "code",
      "metadata": {
        "id": "i0PHezHjzabY"
      },
      "source": [
        "N = 20\n",
        "t_1 = 2\n",
        "\n",
        "populations = plot_EP(N, t_1)"
      ],
      "execution_count": null,
      "outputs": []
    },
    {
      "cell_type": "markdown",
      "metadata": {
        "id": "PjslDSRjzabY"
      },
      "source": [
        "#### Populations"
      ]
    },
    {
      "cell_type": "code",
      "metadata": {
        "id": "tMQNmjkyzabY"
      },
      "source": [
        "pd.DataFrame(populations.T, index=np.arange(1, N+1), columns=['Friends on the Left', 'Friends on the Right'])"
      ],
      "execution_count": null,
      "outputs": []
    },
    {
      "cell_type": "code",
      "metadata": {
        "id": "hIGKPks9zabZ"
      },
      "source": [
        "proportion_confint(3, 3, alpha=0.05, method='binom_test')"
      ],
      "execution_count": null,
      "outputs": []
    },
    {
      "cell_type": "markdown",
      "metadata": {
        "id": "ICjbibKIzabZ"
      },
      "source": [
        "# Problem of Skipping"
      ]
    },
    {
      "cell_type": "markdown",
      "metadata": {
        "id": "7dWIHMh8zabZ"
      },
      "source": [
        "## Fraction of PD-movements"
      ]
    },
    {
      "cell_type": "markdown",
      "metadata": {
        "id": "fuQ7SZIqzabZ"
      },
      "source": [
        "### t1->t2"
      ]
    },
    {
      "cell_type": "code",
      "metadata": {
        "id": "PNFiLrvSzabZ"
      },
      "source": [
        "N = 20\n",
        "\n",
        "Minimal_Interval = 1 / N\n",
        "\n",
        "t_1 = 1\n",
        "t_2 = t_1 + 1\n",
        "\n",
        "x_1 = '$\\hat{x}_{i}(t_{' + str(t_1) + '})$'\n",
        "x_2 = '$\\hat{x}_{i}(t_{' + str(t_2) + '})$'\n",
        "\n",
        "fr_1 = '$\\hat{x}_{-i}(t_{' + str(t_1) + '})$'\n",
        "\n",
        "op_change = data[x_2] - data[x_1]\n",
        "cond_change = abs(op_change) > Minimal_Interval\n",
        "\n",
        "fr_diff = data[fr_1] - data[x_1]\n",
        "cond_fr = abs(fr_diff) > Minimal_Interval\n",
        "\n",
        "cond_PD = (op_change * fr_diff > 0) & cond_change & cond_fr\n",
        "\n",
        "print(data[cond_PD].shape[0] / data[cond_change].shape[0])"
      ],
      "execution_count": null,
      "outputs": []
    },
    {
      "cell_type": "markdown",
      "metadata": {
        "id": "HNOfkQzHzabZ"
      },
      "source": [
        "### t2->t3"
      ]
    },
    {
      "cell_type": "code",
      "metadata": {
        "id": "Akr3Zc4UzabZ"
      },
      "source": [
        "N = 20\n",
        "\n",
        "Minimal_Interval = 1 / N\n",
        "\n",
        "t_1 = 2\n",
        "t_2 = t_1 + 1\n",
        "\n",
        "x_1 = '$\\hat{x}_{i}(t_{' + str(t_1) + '})$'\n",
        "x_2 = '$\\hat{x}_{i}(t_{' + str(t_2) + '})$'\n",
        "\n",
        "fr_1 = '$\\hat{x}_{-i}(t_{' + str(t_1) + '})$'\n",
        "\n",
        "op_change = data[x_2] - data[x_1]\n",
        "cond_change = abs(op_change) > Minimal_Interval\n",
        "\n",
        "fr_diff = data[fr_1] - data[x_1]\n",
        "cond_fr = abs(fr_diff) > Minimal_Interval\n",
        "\n",
        "cond_PD = (op_change * fr_diff > 0) & cond_change & cond_fr\n",
        "\n",
        "print(data[cond_PD].shape[0] / data[cond_change].shape[0])"
      ],
      "execution_count": null,
      "outputs": []
    },
    {
      "cell_type": "markdown",
      "metadata": {
        "id": "gvTr4ax1zabZ"
      },
      "source": [
        "## Fraction of NSPD-movements among PD-ones"
      ]
    },
    {
      "cell_type": "markdown",
      "metadata": {
        "id": "TlLDYaEWzaba"
      },
      "source": [
        "### t1->t2"
      ]
    },
    {
      "cell_type": "code",
      "metadata": {
        "id": "Y92Evvmtzaba"
      },
      "source": [
        "N = 20\n",
        "\n",
        "Minimal_Interval = 1 / N\n",
        "\n",
        "t_1 = 1\n",
        "t_2 = t_1 + 1\n",
        "\n",
        "x_1 = '$\\hat{x}_{i}(t_{' + str(t_1) + '})$'\n",
        "x_2 = '$\\hat{x}_{i}(t_{' + str(t_2) + '})$'\n",
        "\n",
        "fr_1 = '$\\hat{x}_{-i}(t_{' + str(t_1) + '})$'\n",
        "\n",
        "op_change = data[x_2] - data[x_1]\n",
        "condition_change = abs(op_change) > Minimal_Interval\n",
        "\n",
        "cond_left = data[x_2] < data[x_1] - Minimal_Interval   #Move on the left\n",
        "cond_fr_left = data[fr_1] < data[x_1] - Minimal_Interval  #Friends on the left\n",
        "cond_PD_left = cond_left & cond_fr_left\n",
        "condition_NSPD_left = (data[fr_1] - Minimal_Interval <= data[x_2]) & cond_PD_left\n",
        "\n",
        "cond_right = data[x_1] + Minimal_Interval < data[x_2]  #Move on the right\n",
        "cond_fr_right = data[x_1] + Minimal_Interval < data[fr_1]  #Friends on the right\n",
        "cond_PD_right = cond_right & cond_fr_right\n",
        "condition_NSPD_right = (data[x_2] <= data[fr_1] + Minimal_Interval) & cond_PD_right\n",
        "\n",
        "\n",
        "print(data[condition_NSPD_right | condition_NSPD_left].shape[0] / data[cond_PD_left | cond_PD_right].shape[0])"
      ],
      "execution_count": null,
      "outputs": []
    },
    {
      "cell_type": "markdown",
      "metadata": {
        "id": "KGHD30Yezaba"
      },
      "source": [
        "### t2->t3"
      ]
    },
    {
      "cell_type": "code",
      "metadata": {
        "id": "xXQE6zBYzaba"
      },
      "source": [
        "N = 20\n",
        "\n",
        "Minimal_Interval = 1 / N\n",
        "\n",
        "t_1 = 2\n",
        "t_2 = t_1 + 1\n",
        "\n",
        "x_1 = '$\\hat{x}_{i}(t_{' + str(t_1) + '})$'\n",
        "x_2 = '$\\hat{x}_{i}(t_{' + str(t_2) + '})$'\n",
        "\n",
        "fr_1 = '$\\hat{x}_{-i}(t_{' + str(t_1) + '})$'\n",
        "\n",
        "op_change = data[x_2] - data[x_1]\n",
        "condition_change = abs(op_change) > Minimal_Interval\n",
        "\n",
        "cond_left = data[x_2] < data[x_1] - Minimal_Interval   #Move on the left\n",
        "cond_fr_left = data[fr_1] < data[x_1] - Minimal_Interval  #Friends on the left\n",
        "cond_PD_left = cond_left & cond_fr_left\n",
        "condition_NSPD_left = (data[fr_1] - Minimal_Interval <= data[x_2]) & cond_PD_left\n",
        "\n",
        "cond_right = data[x_1] + Minimal_Interval < data[x_2]  #Move on the right\n",
        "cond_fr_right = data[x_1] + Minimal_Interval < data[fr_1]  #Friends on the right\n",
        "cond_PD_right = cond_right & cond_fr_right\n",
        "condition_NSPD_right = (data[x_2] <= data[fr_1] + Minimal_Interval) & cond_PD_right\n",
        "\n",
        "\n",
        "print(data[condition_NSPD_right | condition_NSPD_left].shape[0] / data[cond_PD_left | cond_PD_right].shape[0])"
      ],
      "execution_count": null,
      "outputs": []
    },
    {
      "cell_type": "markdown",
      "metadata": {
        "id": "frxMcNsazaba"
      },
      "source": [
        "## Fraction of NSPD-movements as a fucntion of individual's opinion and ther friends' average opinion"
      ]
    },
    {
      "cell_type": "markdown",
      "metadata": {
        "id": "03n9O3QGzaba"
      },
      "source": [
        "### t1->t2"
      ]
    },
    {
      "cell_type": "code",
      "metadata": {
        "id": "VNtN7MZezaba"
      },
      "source": [
        "N = 20\n",
        "threshold_values = np.array(range(N + 1)) / N\n",
        "Minimal_Interval = 1 / N\n",
        "\n",
        "t_1 = 1\n",
        "t_2 = t_1 + 1\n",
        "\n",
        "x_1 = '$\\hat{x}_{i}(t_{' + str(t_1) + '})$'\n",
        "x_2 = '$\\hat{x}_{i}(t_{' + str(t_2) + '})$'\n",
        "\n",
        "fr_1 = '$\\hat{x}_{-i}(t_{' + str(t_1) + '})$'\n",
        "\n",
        "results = np.zeros((len(threshold_values) - 1, \n",
        "                    len(threshold_values) - 1))\n",
        "\n",
        "populations = np.zeros((len(threshold_values) - 1, \n",
        "                        len(threshold_values) - 1))\n",
        "\n",
        "op_change = data[x_2] - data[x_1]\n",
        "cond_change = abs(op_change) > Minimal_Interval\n",
        "\n",
        "fr_diff = data[fr_1] - data[x_1]\n",
        "cond_fr = abs(fr_diff) > Minimal_Interval\n",
        "\n",
        "cond_PD = (op_change * fr_diff > 0) & cond_change & cond_fr\n",
        "\n",
        "for j in tqdm(range(len(threshold_values) - 1)):\n",
        "    \n",
        "    thresholds_j = (threshold_values[j], threshold_values[j+1])\n",
        "    \n",
        "    if j:\n",
        "        cond_self_position = (data[x_1] > thresholds_j[0]) & (data[x_1] <= thresholds_j[1])\n",
        "    else:\n",
        "        cond_self_position = (data[x_1] >= thresholds_j[0]) & (data[x_1] <= thresholds_j[1])\n",
        "    \n",
        "    data_sample = data[cond_self_position & cond_PD]\n",
        "    \n",
        "    for m in range(len(threshold_values) - 1):  \n",
        "        \n",
        "        if m != j:\n",
        "        \n",
        "            thresholds_m = (threshold_values[m], threshold_values[m+1])\n",
        "\n",
        "            if m:\n",
        "                cond_fr_position = (data[fr_1] > thresholds_m[0]) & (data[fr_1] <= thresholds_m[1])\n",
        "            else:\n",
        "                cond_fr_position = (data[fr_1] >= thresholds_m[0]) & (data[fr_1] <= thresholds_m[1])\n",
        "\n",
        "            data_sample_sample = data_sample[cond_fr_position]\n",
        "            if m < j:\n",
        "                condition_NSPD = data_sample_sample[fr_1] - Minimal_Interval <= data_sample_sample[x_2]\n",
        "            elif m > j:\n",
        "                condition_NSPD = data_sample_sample[x_2] <= data_sample_sample[fr_1] + Minimal_Interval\n",
        "\n",
        "            if data_sample_sample.shape[0] > 0:\n",
        "                populations[j, m] = data_sample_sample.shape[0]\n",
        "                results[j, m] = data_sample_sample[condition_NSPD].shape[0] / data_sample_sample.shape[0]\n",
        "            else:\n",
        "                results[j, m] = None\n",
        "                \n",
        "        elif m == j:\n",
        "            populations[j, m] = None\n",
        "            results[j, m] = None "
      ],
      "execution_count": null,
      "outputs": []
    },
    {
      "cell_type": "markdown",
      "metadata": {
        "id": "eSKP49RKzaba"
      },
      "source": [
        "#### Heatmap"
      ]
    },
    {
      "cell_type": "code",
      "metadata": {
        "id": "RG1adz95zaba"
      },
      "source": [
        "fig_size = 10\n",
        "plt.figure(figsize=(fig_size, fig_size))\n",
        "ax = sns.heatmap(results, annot=False, cmap=\"YlGnBu\", xticklabels=False, yticklabels=False)\n",
        "\n",
        "plt.xlabel('$\\hat{x}_{-i}(t_{' + str(t_1) + '})$', fontsize = 15)\n",
        "plt.ylabel('$\\hat{x}_{i}(t_{' + str(t_1) + '})$', fontsize = 15)\n",
        "plt.savefig('image.pdf')\n",
        "plt.show()"
      ],
      "execution_count": null,
      "outputs": []
    },
    {
      "cell_type": "markdown",
      "metadata": {
        "id": "xTXr-3HXzabb"
      },
      "source": [
        "#### Populations"
      ]
    },
    {
      "cell_type": "code",
      "metadata": {
        "id": "2B-gYes0zabb"
      },
      "source": [
        "pd.DataFrame(populations, columns=np.arange(1, N+1), index = np.arange(1, N+1))"
      ],
      "execution_count": null,
      "outputs": []
    },
    {
      "cell_type": "markdown",
      "metadata": {
        "id": "I9YEgYQYzabb"
      },
      "source": [
        "### t2->t3"
      ]
    },
    {
      "cell_type": "code",
      "metadata": {
        "id": "MrgK8rIDzabb"
      },
      "source": [
        "N = 20\n",
        "threshold_values = np.array(range(N + 1)) / N\n",
        "Minimal_Interval = 1 / N\n",
        "\n",
        "t_1 = 2\n",
        "t_2 = t_1 + 1\n",
        "\n",
        "x_1 = '$\\hat{x}_{i}(t_{' + str(t_1) + '})$'\n",
        "x_2 = '$\\hat{x}_{i}(t_{' + str(t_2) + '})$'\n",
        "\n",
        "fr_1 = '$\\hat{x}_{-i}(t_{' + str(t_1) + '})$'\n",
        "\n",
        "results = np.zeros((len(threshold_values) - 1, \n",
        "                    len(threshold_values) - 1))\n",
        "\n",
        "populations = np.zeros((len(threshold_values) - 1, \n",
        "                        len(threshold_values) - 1))\n",
        "\n",
        "op_change = data[x_2] - data[x_1]\n",
        "cond_change = abs(op_change) > Minimal_Interval\n",
        "\n",
        "fr_diff = data[fr_1] - data[x_1]\n",
        "cond_fr = abs(fr_diff) > Minimal_Interval\n",
        "\n",
        "cond_PD = (op_change * fr_diff > 0) & cond_change & cond_fr\n",
        "\n",
        "for j in tqdm(range(len(threshold_values) - 1)):\n",
        "    \n",
        "    thresholds_j = (threshold_values[j], threshold_values[j+1])\n",
        "    \n",
        "    if j:\n",
        "        cond_self_position = (data[x_1] > thresholds_j[0]) & (data[x_1] <= thresholds_j[1])\n",
        "    else:\n",
        "        cond_self_position = (data[x_1] >= thresholds_j[0]) & (data[x_1] <= thresholds_j[1])\n",
        "    \n",
        "    data_sample = data[cond_self_position & cond_PD]\n",
        "    \n",
        "    for m in range(len(threshold_values) - 1):  \n",
        "        \n",
        "        if m != j:\n",
        "        \n",
        "            thresholds_m = (threshold_values[m], threshold_values[m+1])\n",
        "\n",
        "            if m:\n",
        "                cond_fr_position = (data[fr_1] > thresholds_m[0]) & (data[fr_1] <= thresholds_m[1])\n",
        "            else:\n",
        "                cond_fr_position = (data[fr_1] >= thresholds_m[0]) & (data[fr_1] <= thresholds_m[1])\n",
        "\n",
        "            data_sample_sample = data_sample[cond_fr_position]\n",
        "            if m < j:\n",
        "                condition_NSPD = data_sample_sample[fr_1] - Minimal_Interval <= data_sample_sample[x_2]\n",
        "            elif m > j:\n",
        "                condition_NSPD = data_sample_sample[x_2] <= data_sample_sample[fr_1] + Minimal_Interval\n",
        "\n",
        "            if data_sample_sample.shape[0] > 0:\n",
        "                populations[j, m] = data_sample_sample.shape[0]\n",
        "                results[j, m] = data_sample_sample[condition_NSPD].shape[0] / data_sample_sample.shape[0]\n",
        "            else:\n",
        "                results[j, m] = None\n",
        "                \n",
        "        elif m == j:\n",
        "            populations[j, m] = None\n",
        "            results[j, m] = None "
      ],
      "execution_count": null,
      "outputs": []
    },
    {
      "cell_type": "markdown",
      "metadata": {
        "id": "x6vEm_Ffzabb"
      },
      "source": [
        "#### Heatmap"
      ]
    },
    {
      "cell_type": "code",
      "metadata": {
        "id": "r_URPIhuzabb"
      },
      "source": [
        "fig_size = 10\n",
        "plt.figure(figsize=(fig_size, fig_size))\n",
        "ax = sns.heatmap(results, annot=False, cmap=\"YlGnBu\", xticklabels=False, yticklabels=False)\n",
        "\n",
        "plt.xlabel('$\\hat{x}_{-i}(t_{' + str(t_1) + '})$', fontsize = 15)\n",
        "plt.ylabel('$\\hat{x}_{i}(t_{' + str(t_1) + '})$', fontsize = 15)\n",
        "plt.savefig('image.pdf')\n",
        "plt.show()"
      ],
      "execution_count": null,
      "outputs": []
    },
    {
      "cell_type": "markdown",
      "metadata": {
        "id": "HmKcoPcszabb"
      },
      "source": [
        "#### Populations"
      ]
    },
    {
      "cell_type": "code",
      "metadata": {
        "id": "lYmgxuFkzabb"
      },
      "source": [
        "pd.DataFrame(populations, columns=np.arange(1, N+1), index = np.arange(1, N+1))"
      ],
      "execution_count": null,
      "outputs": []
    },
    {
      "cell_type": "markdown",
      "metadata": {
        "id": "b4XwoSXozabb"
      },
      "source": [
        "# Bounded Confidence and Social Judgment Theory"
      ]
    },
    {
      "cell_type": "code",
      "metadata": {
        "id": "bvD7JNujzabb"
      },
      "source": [
        "def BC_SJT(N, t_1, N_excl):\n",
        "    \n",
        "    #N = 20\n",
        "    #N_excl = 4  #Exclude extreme groups\n",
        "\n",
        "    threshold_values = np.array(range(N + 1)) / N\n",
        "    Minimal_Interval = 1 / N\n",
        "\n",
        "    #t_1 = 1\n",
        "    t_2 = t_1 + 1\n",
        "\n",
        "    x_1 = '$\\hat{x}_{i}(t_{' + str(t_1) + '})$'\n",
        "    x_2 = '$\\hat{x}_{i}(t_{' + str(t_2) + '})$'\n",
        "\n",
        "    fr_1 = '$\\hat{x}_{-i}(t_{' + str(t_1) + '})$'\n",
        "\n",
        "    results = np.zeros((len(threshold_values) - 1, \n",
        "                        len(threshold_values) - 1))\n",
        "\n",
        "    populations = np.zeros((len(threshold_values) - 1, \n",
        "                            len(threshold_values) - 1))\n",
        "\n",
        "    op_change = data[x_2] - data[x_1]\n",
        "    condition_change = abs(op_change) > Minimal_Interval\n",
        "    #cond_fr = abs(data[x_1] - data[fr_1]) > Minimal_Interval\n",
        "\n",
        "    for j in tqdm(range(len(threshold_values) - 1)):\n",
        "\n",
        "        thresholds_j = (threshold_values[j], threshold_values[j+1])\n",
        "\n",
        "        if j:\n",
        "            cond_position = (data[x_1] > thresholds_j[0]) & (data[x_1] <= thresholds_j[1])\n",
        "        else:\n",
        "            cond_position = (data[x_1] >= thresholds_j[0]) & (data[x_1] <= thresholds_j[1])\n",
        "\n",
        "        data_sample = data[cond_position & condition_change]\n",
        "\n",
        "        for m in range(0, len(threshold_values) - 1):  \n",
        "\n",
        "            if 1==1:\n",
        "\n",
        "                thresholds_m = (threshold_values[m], threshold_values[m+1])\n",
        "\n",
        "                if m:\n",
        "                    cond_fr_position = (data[fr_1] > thresholds_m[0]) & (data[fr_1] <= thresholds_m[1])\n",
        "                else:\n",
        "                    cond_fr_position = (data[fr_1] >= thresholds_m[0]) & (data[fr_1] <= thresholds_m[1])\n",
        "\n",
        "                data_sample_sample = data_sample[cond_fr_position]\n",
        "                populations[j, m] = data_sample_sample.shape[0]\n",
        "\n",
        "                cond_left = data_sample_sample[x_2] < data_sample_sample[x_1]  #Go Left\n",
        "\n",
        "                if data_sample_sample.shape[0] > 0:\n",
        "                    results[j, m] = data_sample_sample[cond_left].shape[0] / data_sample_sample.shape[0]\n",
        "                else:\n",
        "                    results[j, m] = None\n",
        "\n",
        "            #else:\n",
        "            #    populations[j, m] = None\n",
        "            #    results[j, m] = None\n",
        "\n",
        "    j_excl = N_excl # j \\in {j_excl+1,..., 20-j_excl}\n",
        "    m_excl = N_excl # m \\in {m_excl+1,..., 20-m_excl}\n",
        "\n",
        "\n",
        "    for j in range(j_excl, N-j_excl):\n",
        "        fig_size = 7\n",
        "        labelsize = 15\n",
        "        plt.figure(figsize=(fig_size, fig_size))\n",
        "        plt.title('k = ' + str(t_1) + ', j = ' + str(j+1), fontdict={'fontsize' : 20})\n",
        "        plt.rcParams['xtick.labelsize'] = labelsize\n",
        "        plt.rcParams['ytick.labelsize'] = labelsize\n",
        "        x = (threshold_values[1:] - threshold_values[:-1]) / 2 + threshold_values[:-1]\n",
        "        plt.grid(True)\n",
        "\n",
        "        #plt.plot(x[m_excl: j], results[j, m_excl: j], color='red', marker='^', \n",
        "        #         label = 'm<j')\n",
        "\n",
        "        #plt.plot(x[j+1: N-m_excl], results[j, j+1: N-m_excl], color='blue', marker='v', \n",
        "        #         label = 'm>j')\n",
        "\n",
        "        plt.plot(x[m_excl: j+1], results[j, m_excl: j+1], color='red', marker='v', \n",
        "                 label = '$m \\leq j$')\n",
        "\n",
        "        plt.plot(x[j: N-m_excl], results[j, j: N-m_excl], color='blue', marker='v', \n",
        "                 label = '$m \\geq j$')\n",
        "\n",
        "        plt.axvline(x[j], c='black', lw=1)\n",
        "        pylab.text(x[j], 0.8, '$\\hat{x}_{i}(t_{' + str(t_1) + '})$', fontsize = labelsize)\n",
        "\n",
        "        plt.xticks(np.arange(0, 1.1, 0.1))\n",
        "        plt.yticks(np.arange(0, 1.1, 0.1))\n",
        "        plt.xlabel('$\\hat{x}_{-i}(t_{' + str(t_1) + '})$', fontsize = labelsize)\n",
        "        plt.ylabel('Estimated Probability of Choosing the Left Direction', fontsize = labelsize)\n",
        "        plt.legend(loc='lower right', fontsize = labelsize)\n",
        "        plt.savefig('image_' + str(t_1) + '_' + str(j+1)  + '.pdf')\n",
        "        plt.show()\n",
        "    \n",
        "    return populations"
      ],
      "execution_count": null,
      "outputs": []
    },
    {
      "cell_type": "markdown",
      "metadata": {
        "id": "CwliQl9Czabc"
      },
      "source": [
        "## t1->t2"
      ]
    },
    {
      "cell_type": "code",
      "metadata": {
        "id": "W7Z7jPbGzabc"
      },
      "source": [
        "N = 20\n",
        "t_1 = 1\n",
        "N_excl = 4\n",
        "\n",
        "populations = BC_SJT(N, t_1, N_excl)"
      ],
      "execution_count": null,
      "outputs": []
    },
    {
      "cell_type": "markdown",
      "metadata": {
        "id": "GwIkAVMFzabc"
      },
      "source": [
        "### Populations of Groups (no Excluding)"
      ]
    },
    {
      "cell_type": "code",
      "metadata": {
        "id": "cquuFCsKzabc"
      },
      "source": [
        "pd.DataFrame(populations, \n",
        "             columns=np.arange(1, N+1), \n",
        "             index = np.arange(1, N+1))"
      ],
      "execution_count": null,
      "outputs": []
    },
    {
      "cell_type": "markdown",
      "metadata": {
        "id": "lK2oipgyzabc"
      },
      "source": [
        "## t2->t3"
      ]
    },
    {
      "cell_type": "code",
      "metadata": {
        "id": "Jej7kGgVzabc"
      },
      "source": [
        "N = 20\n",
        "t_1 = 2\n",
        "N_excl = 4\n",
        "\n",
        "populations = BC_SJT(N, t_1, N_excl)"
      ],
      "execution_count": null,
      "outputs": []
    },
    {
      "cell_type": "markdown",
      "metadata": {
        "id": "Esl2UHOdzabc"
      },
      "source": [
        "### Populations of Groups (no Excluding)"
      ]
    },
    {
      "cell_type": "code",
      "metadata": {
        "id": "jLAnS1y1zabc"
      },
      "source": [
        "pd.DataFrame(populations, \n",
        "             columns=np.arange(1, N+1), \n",
        "             index = np.arange(1, N+1))"
      ],
      "execution_count": null,
      "outputs": []
    },
    {
      "cell_type": "markdown",
      "metadata": {
        "id": "r6UgRDct9Iaa"
      },
      "source": [
        "# Export to HTML"
      ]
    },
    {
      "cell_type": "code",
      "metadata": {
        "colab": {
          "base_uri": "https://localhost:8080/"
        },
        "id": "m0k6l2_B9AD1",
        "outputId": "6a00deae-d3fd-4f63-e1ac-48e0314c8384"
      },
      "source": [
        "%%shell\n",
        "jupyter nbconvert --to html /content/Code_rev.ipynb"
      ],
      "execution_count": null,
      "outputs": [
        {
          "output_type": "stream",
          "name": "stdout",
          "text": [
            "[NbConvertApp] Converting notebook /content/Code_rev.ipynb to html\n",
            "[NbConvertApp] Writing 2785877 bytes to /content/Code_rev.html\n"
          ]
        },
        {
          "output_type": "execute_result",
          "data": {
            "text/plain": [
              ""
            ]
          },
          "metadata": {},
          "execution_count": 21
        }
      ]
    }
  ]
}