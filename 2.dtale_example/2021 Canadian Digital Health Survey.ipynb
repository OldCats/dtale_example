{
 "cells": [
  {
   "cell_type": "markdown",
   "id": "ce64b98c-3ddb-429c-9d26-8bd9744bf6b2",
   "metadata": {},
   "source": [
    "# 2021 Canadian Digital Health Survey\n",
    "from https://dataverse.scholarsportal.info/dataset.xhtml?persistentId=doi:10.5683/SP3/CEYG42"
   ]
  },
  {
   "cell_type": "code",
   "execution_count": 8,
   "id": "f33fcc2c-ee1e-4cdb-837f-8fab29ec56e9",
   "metadata": {},
   "outputs": [],
   "source": [
    "import pandas as pd\n",
    "import dtale\n",
    "import dtale.app as dtale_app\n",
    "\n",
    "dtale_app.JUPYTER_SERVER_PROXY = True"
   ]
  },
  {
   "cell_type": "markdown",
   "id": "ca45b37a-11fd-4501-ae92-de3947cff595",
   "metadata": {},
   "source": [
    "## Download data"
   ]
  },
  {
   "cell_type": "code",
   "execution_count": 7,
   "id": "f3c2ec59-e939-44f2-8346-959999a88e5f",
   "metadata": {},
   "outputs": [
    {
     "name": "stdout",
     "output_type": "stream",
     "text": [
      "File name ATS2021 Dataset_Dataverse posting.tab, id 234060\n"
     ]
    }
   ],
   "source": [
    "from pyDataverse.api import NativeApi, DataAccessApi\n",
    "from pyDataverse.models import Dataverse\n",
    "\n",
    "base_url = 'https://dataverse.scholarsportal.info/'\n",
    "api = NativeApi(base_url)\n",
    "data_api = DataAccessApi(base_url)\n",
    "\n",
    "DOI = \"doi:10.5683/SP3/CEYG42\"\n",
    "\n",
    "dataset = api.get_dataset(DOI)\n",
    "\n",
    "files_list = dataset.json()['data']['latestVersion']['files']\n",
    "\n",
    "for file in files_list:\n",
    "    filename = file[\"dataFile\"][\"filename\"]\n",
    "    file_id = file[\"dataFile\"][\"id\"]\n",
    "    print(\"File name {}, id {}\".format(filename, file_id))\n",
    "\n",
    "    response = data_api.get_datafile(file_id)\n",
    "    with open(filename, \"wb\") as f:\n",
    "        f.write(response.content)"
   ]
  },
  {
   "cell_type": "code",
   "execution_count": 14,
   "id": "68b0f642-a725-4392-ae85-f9a5f8910f64",
   "metadata": {},
   "outputs": [],
   "source": [
    "## load data"
   ]
  },
  {
   "cell_type": "code",
   "execution_count": 12,
   "id": "1c54606e-8b25-4de0-9d7d-466e9e790ea8",
   "metadata": {},
   "outputs": [
    {
     "data": {
      "text/html": [
       "\n",
       "        <iframe\n",
       "            width=\"100%\"\n",
       "            height=\"475\"\n",
       "            src=\"/user/k7507/proxy/40000/dtale/iframe/1\"\n",
       "            frameborder=\"0\"\n",
       "            allowfullscreen\n",
       "            \n",
       "        ></iframe>\n",
       "        "
      ],
      "text/plain": [
       "<IPython.lib.display.IFrame at 0x1c000771640>"
      ]
     },
     "metadata": {},
     "output_type": "display_data"
    },
    {
     "data": {
      "text/plain": []
     },
     "execution_count": 12,
     "metadata": {},
     "output_type": "execute_result"
    }
   ],
   "source": [
    "df = pd.read_table(filename)\n",
    "dtale.show(df)"
   ]
  }
 ],
 "metadata": {
  "kernelspec": {
   "display_name": "Python 3 (ipykernel)",
   "language": "python",
   "name": "python3"
  },
  "language_info": {
   "codemirror_mode": {
    "name": "ipython",
    "version": 3
   },
   "file_extension": ".py",
   "mimetype": "text/x-python",
   "name": "python",
   "nbconvert_exporter": "python",
   "pygments_lexer": "ipython3",
   "version": "3.9.7"
  }
 },
 "nbformat": 4,
 "nbformat_minor": 5
}
