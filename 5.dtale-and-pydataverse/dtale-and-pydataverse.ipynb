{
 "cells": [
  {
   "cell_type": "code",
   "execution_count": 1,
   "id": "fcaec1fb-08f1-4cdd-a0f5-e168c77c9c4c",
   "metadata": {},
   "outputs": [
    {
     "name": "stdout",
     "output_type": "stream",
     "text": [
      "File name Code.ipynb, id 3849476\n",
      "File name X_friends.npz, id 3664838\n",
      "File name X_opinions.scv, id 3664839\n"
     ]
    }
   ],
   "source": [
    "\n",
    "from pyDataverse.api import NativeApi, DataAccessApi\n",
    "from pyDataverse.models import Dataverse\n",
    "\n",
    "base_url = 'https://dataverse.harvard.edu/'\n",
    "api = NativeApi(base_url)\n",
    "data_api = DataAccessApi(base_url)\n",
    "\n",
    "DOI = \"doi:10.7910/DVN/CLI1PC\"\n",
    "\n",
    "dataset = api.get_dataset(DOI)\n",
    "\n",
    "files_list = dataset.json()['data']['latestVersion']['files']\n",
    "\n",
    "for file in files_list:\n",
    "    filename = file[\"dataFile\"][\"filename\"]\n",
    "    file_id = file[\"dataFile\"][\"id\"]\n",
    "    print(\"File name {}, id {}\".format(filename, file_id))\n",
    "\n",
    "    response = data_api.get_datafile(file_id)\n",
    "    with open(filename, \"wb\") as f:\n",
    "        f.write(response.content)"
   ]
  },
  {
   "cell_type": "code",
   "execution_count": 3,
   "id": "965e6a8b-8e62-4b07-ab2f-47c2344cef92",
   "metadata": {},
   "outputs": [
    {
     "name": "stdout",
     "output_type": "stream",
     "text": [
      "(1660927, 6)\n"
     ]
    }
   ],
   "source": [
    "import pandas as pd\n",
    "\n",
    "data = pd.read_csv('X_opinions.scv')\n",
    "data.drop(['Unnamed: 0'], axis=1, inplace=True)\n",
    "print(data.shape)"
   ]
  },
  {
   "cell_type": "code",
   "execution_count": 4,
   "id": "e8830a5c-5fe7-4e6e-bc2b-7da6a8f7558f",
   "metadata": {},
   "outputs": [
    {
     "data": {
      "text/html": [
       "\n",
       "        <iframe\n",
       "            width=\"100%\"\n",
       "            height=\"475\"\n",
       "            src=\"/user/oldcats-dtale_example-65hswb3k/proxy/40000/dtale/iframe/1\"\n",
       "            frameborder=\"0\"\n",
       "            allowfullscreen\n",
       "            \n",
       "        ></iframe>\n",
       "        "
      ],
      "text/plain": [
       "<IPython.lib.display.IFrame at 0x7f9a6ee7b5d0>"
      ]
     },
     "metadata": {},
     "output_type": "display_data"
    },
    {
     "data": {
      "text/plain": []
     },
     "execution_count": 4,
     "metadata": {},
     "output_type": "execute_result"
    }
   ],
   "source": [
    "import seaborn as sns\n",
    "\n",
    "import dtale\n",
    "import dtale.app as dtale_app\n",
    "\n",
    "dtale_app.JUPYTER_SERVER_PROXY = True\n",
    "dtale.show(data)"
   ]
  }
 ],
 "metadata": {
  "kernelspec": {
   "display_name": "Python 3 (ipykernel)",
   "language": "python",
   "name": "python3"
  },
  "language_info": {
   "codemirror_mode": {
    "name": "ipython",
    "version": 3
   },
   "file_extension": ".py",
   "mimetype": "text/x-python",
   "name": "python",
   "nbconvert_exporter": "python",
   "pygments_lexer": "ipython3",
   "version": "3.7.12"
  }
 },
 "nbformat": 4,
 "nbformat_minor": 5
}
